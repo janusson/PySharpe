{
  "cells": [
    {
      "cell_type": "markdown",
      "metadata": {},
      "source": [
        "# PySharpe Quickstart\n",
        "\n",
        "This notebook runs entirely offline using the seeded fixtures included with the repository. It demonstrates how to:\n",
        "\n",
        "1. Import PySharpe and supporting libraries.\n",
        "2. Load a small portfolio definition (no network access required).\n",
        "3. Compute returns, volatility, and Sharpe ratios with the metrics helpers.\n",
        "4. Optimise a portfolio (when PyPortfolioOpt is available).\n",
        "5. Plot a simple performance chart.\n"
      ]
    },
    {
      "cell_type": "code",
      "execution_count": null,
      "metadata": {},
      "outputs": [],
      "source": [
        "from __future__ import annotations\n",
        "\n",
        "from pathlib import Path\n",
        "from tempfile import TemporaryDirectory\n",
        "\n",
        "import matplotlib.pyplot as plt\n",
        "import numpy as np\n",
        "import pandas as pd\n",
        "\n",
        "import pysharpe\n",
        "from pysharpe import metrics\n"
      ]
    },
    {
      "cell_type": "code",
      "execution_count": null,
      "metadata": {},
      "outputs": [],
      "source": [
        "# Load tickers from the sample CSV shipped with the tests directory.\n",
        "portfolio_path = Path('tests/data/sample_portfolio.csv')\n",
        "raw_tickers = portfolio_path.read_text(encoding='utf-8').splitlines()\n",
        "portfolio_tickers = [ticker.strip() for ticker in raw_tickers if ticker and not ticker.startswith('#')]\n",
        "print(f'Loaded tickers: {portfolio_tickers}')\n",
        "\n",
        "# Build a deterministic price frame using a seeded random walk.\n",
        "rng = np.random.default_rng(seed=41)\n",
        "dates = pd.date_range('2022-01-01', periods=90, freq='B')\n",
        "shocks = rng.normal(loc=0.001, scale=0.02, size=(len(dates), len(portfolio_tickers)))\n",
        "prices = 100 * np.exp(np.cumsum(shocks, axis=0))\n",
        "price_frame = pd.DataFrame(prices, index=dates, columns=portfolio_tickers)\n",
        "price_frame.head()\n"
      ]
    },
    {
      "cell_type": "code",
      "execution_count": null,
      "metadata": {},
      "outputs": [],
      "source": [
        "# Compute daily returns and annualised statistics.\n",
        "returns = metrics.compute_returns(price_frame)\n",
        "annual_return = metrics.annualize_return(returns)\n",
        "annual_volatility = metrics.annualize_volatility(returns)\n",
        "sharpe = metrics.sharpe_ratio(returns)\n",
        "\n",
        "summary = pd.DataFrame({\n",
        "    'annual_return': annual_return,\n",
        "    'annual_volatility': annual_volatility,\n",
        "    'sharpe_ratio': sharpe,\n",
        "}).sort_index()\n",
        "summary\n"
      ]
    },
    {
      "cell_type": "code",
      "execution_count": null,
      "metadata": {},
      "outputs": [],
      "source": [
        "# Run an optimisation using the generated data when PyPortfolioOpt is installed.\n",
        "try:\n",
        "    import pypfopt  # noqa: F401\n",
        "except ModuleNotFoundError:\n",
        "    print('PyPortfolioOpt is not installed in this environment; skipping optimisation demo.')\n",
        "else:\n",
        "    with TemporaryDirectory() as tmpdir:\n",
        "        tmpdir_path = Path(tmpdir)\n",
        "        collated = price_frame.copy()\n",
        "        collated.index.name = 'Date'\n",
        "        collated.reset_index().to_csv(tmpdir_path / 'demo_collated.csv', index=False)\n",
        "\n",
        "        result = pysharpe.optimise_portfolio(\n",
        "            'demo',\n",
        "            collated_dir=tmpdir_path,\n",
        "            output_dir=tmpdir_path,\n",
        "            make_plot=False,\n",
        "        )\n",
        "        print(result.summary)\n"
      ]
    },
    {
      "cell_type": "code",
      "execution_count": null,
      "metadata": {},
      "outputs": [],
      "source": [
        "# Plot cumulative performance to visualise the synthetic series.\n",
        "figure, ax = plt.subplots(figsize=(8, 4))\n",
        "(price_frame / price_frame.iloc[0]).plot(ax=ax)\n",
        "ax.set_title('Synthetic Portfolio Prices (Normalised)')\n",
        "ax.set_ylabel('Growth (x starting value)')\n",
        "ax.grid(True)\n",
        "plt.tight_layout()\n",
        "figure\n"
      ]
    }
  ],
  "metadata": {
    "kernelspec": {
      "display_name": "Python 3",
      "language": "python",
      "name": "python3"
    },
    "language_info": {
      "codemirror_mode": {
        "name": "ipython",
        "version": 3
      },
      "file_extension": ".py",
      "mimetype": "text/x-python",
      "name": "python",
      "nbconvert_exporter": "python",
      "pygments_lexer": "ipython3",
      "version": "3.12"
    }
  },
  "nbformat": 4,
  "nbformat_minor": 5
}