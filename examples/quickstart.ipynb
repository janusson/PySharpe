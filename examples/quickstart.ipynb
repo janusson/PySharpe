{
  "cells": [
    {
      "cell_type": "markdown",
      "metadata": {},
      "source": [
        "# PySharpe Quickstart\n",
        "\n",
        "This notebook runs entirely offline using the seeded fixtures included with the repository. It demonstrates how to:\n",
        "\n",
        "1. Import PySharpe and supporting libraries.\n",
        "2. Load a small portfolio definition (no network access required).\n",
        "3. Compute returns, volatility, and Sharpe ratios with the metrics helpers.\n",
        "4. Optimise a portfolio (when PyPortfolioOpt is available).\n",
        "5. Plot a simple performance chart.\n"
      ]
    },
    {
      "cell_type": "code",
      "execution_count": 1,
      "metadata": {},
      "outputs": [],
      "source": [
        "from __future__ import annotations\n",
        "\n",
        "from pathlib import Path\n",
        "from tempfile import TemporaryDirectory\n",
        "\n",
        "import matplotlib.pyplot as plt\n",
        "import numpy as np\n",
        "import pandas as pd\n",
        "\n",
        "import pysharpe\n",
        "from pysharpe import metrics\n"
      ]
    },
    {
      "cell_type": "code",
      "execution_count": 2,
      "metadata": {},
      "outputs": [
        {
          "ename": "FileNotFoundError",
          "evalue": "[Errno 2] No such file or directory: 'tests/data/sample_portfolio.csv'",
          "output_type": "error",
          "traceback": [
            "\u001b[31m---------------------------------------------------------------------------\u001b[39m",
            "\u001b[31mFileNotFoundError\u001b[39m                         Traceback (most recent call last)",
            "\u001b[36mCell\u001b[39m\u001b[36m \u001b[39m\u001b[32mIn[2]\u001b[39m\u001b[32m, line 3\u001b[39m\n\u001b[32m      1\u001b[39m \u001b[38;5;66;03m# Load tickers from the sample CSV shipped with the tests directory.\u001b[39;00m\n\u001b[32m      2\u001b[39m portfolio_path = Path(\u001b[33m'\u001b[39m\u001b[33mtests/data/sample_portfolio.csv\u001b[39m\u001b[33m'\u001b[39m)\n\u001b[32m----> \u001b[39m\u001b[32m3\u001b[39m raw_tickers = \u001b[43mportfolio_path\u001b[49m\u001b[43m.\u001b[49m\u001b[43mread_text\u001b[49m\u001b[43m(\u001b[49m\u001b[43mencoding\u001b[49m\u001b[43m=\u001b[49m\u001b[33;43m'\u001b[39;49m\u001b[33;43mutf-8\u001b[39;49m\u001b[33;43m'\u001b[39;49m\u001b[43m)\u001b[49m.splitlines()\n\u001b[32m      4\u001b[39m portfolio_tickers = [ticker.strip() \u001b[38;5;28;01mfor\u001b[39;00m ticker \u001b[38;5;129;01min\u001b[39;00m raw_tickers \u001b[38;5;28;01mif\u001b[39;00m ticker \u001b[38;5;129;01mand\u001b[39;00m \u001b[38;5;129;01mnot\u001b[39;00m ticker.startswith(\u001b[33m'\u001b[39m\u001b[33m#\u001b[39m\u001b[33m'\u001b[39m)]\n\u001b[32m      5\u001b[39m \u001b[38;5;28mprint\u001b[39m(\u001b[33mf\u001b[39m\u001b[33m'\u001b[39m\u001b[33mLoaded tickers: \u001b[39m\u001b[38;5;132;01m{\u001b[39;00mportfolio_tickers\u001b[38;5;132;01m}\u001b[39;00m\u001b[33m'\u001b[39m)\n",
            "\u001b[36mFile \u001b[39m\u001b[32m/Library/Frameworks/Python.framework/Versions/3.13/lib/python3.13/pathlib/_local.py:546\u001b[39m, in \u001b[36mPath.read_text\u001b[39m\u001b[34m(self, encoding, errors, newline)\u001b[39m\n\u001b[32m    543\u001b[39m \u001b[38;5;66;03m# Call io.text_encoding() here to ensure any warning is raised at an\u001b[39;00m\n\u001b[32m    544\u001b[39m \u001b[38;5;66;03m# appropriate stack level.\u001b[39;00m\n\u001b[32m    545\u001b[39m encoding = io.text_encoding(encoding)\n\u001b[32m--> \u001b[39m\u001b[32m546\u001b[39m \u001b[38;5;28;01mreturn\u001b[39;00m \u001b[43mPathBase\u001b[49m\u001b[43m.\u001b[49m\u001b[43mread_text\u001b[49m\u001b[43m(\u001b[49m\u001b[38;5;28;43mself\u001b[39;49m\u001b[43m,\u001b[49m\u001b[43m \u001b[49m\u001b[43mencoding\u001b[49m\u001b[43m,\u001b[49m\u001b[43m \u001b[49m\u001b[43merrors\u001b[49m\u001b[43m,\u001b[49m\u001b[43m \u001b[49m\u001b[43mnewline\u001b[49m\u001b[43m)\u001b[49m\n",
            "\u001b[36mFile \u001b[39m\u001b[32m/Library/Frameworks/Python.framework/Versions/3.13/lib/python3.13/pathlib/_abc.py:632\u001b[39m, in \u001b[36mPathBase.read_text\u001b[39m\u001b[34m(self, encoding, errors, newline)\u001b[39m\n\u001b[32m    628\u001b[39m \u001b[38;5;28;01mdef\u001b[39;00m\u001b[38;5;250m \u001b[39m\u001b[34mread_text\u001b[39m(\u001b[38;5;28mself\u001b[39m, encoding=\u001b[38;5;28;01mNone\u001b[39;00m, errors=\u001b[38;5;28;01mNone\u001b[39;00m, newline=\u001b[38;5;28;01mNone\u001b[39;00m):\n\u001b[32m    629\u001b[39m \u001b[38;5;250m    \u001b[39m\u001b[33;03m\"\"\"\u001b[39;00m\n\u001b[32m    630\u001b[39m \u001b[33;03m    Open the file in text mode, read it, and close the file.\u001b[39;00m\n\u001b[32m    631\u001b[39m \u001b[33;03m    \"\"\"\u001b[39;00m\n\u001b[32m--> \u001b[39m\u001b[32m632\u001b[39m     \u001b[38;5;28;01mwith\u001b[39;00m \u001b[38;5;28;43mself\u001b[39;49m\u001b[43m.\u001b[49m\u001b[43mopen\u001b[49m\u001b[43m(\u001b[49m\u001b[43mmode\u001b[49m\u001b[43m=\u001b[49m\u001b[33;43m'\u001b[39;49m\u001b[33;43mr\u001b[39;49m\u001b[33;43m'\u001b[39;49m\u001b[43m,\u001b[49m\u001b[43m \u001b[49m\u001b[43mencoding\u001b[49m\u001b[43m=\u001b[49m\u001b[43mencoding\u001b[49m\u001b[43m,\u001b[49m\u001b[43m \u001b[49m\u001b[43merrors\u001b[49m\u001b[43m=\u001b[49m\u001b[43merrors\u001b[49m\u001b[43m,\u001b[49m\u001b[43m \u001b[49m\u001b[43mnewline\u001b[49m\u001b[43m=\u001b[49m\u001b[43mnewline\u001b[49m\u001b[43m)\u001b[49m \u001b[38;5;28;01mas\u001b[39;00m f:\n\u001b[32m    633\u001b[39m         \u001b[38;5;28;01mreturn\u001b[39;00m f.read()\n",
            "\u001b[36mFile \u001b[39m\u001b[32m/Library/Frameworks/Python.framework/Versions/3.13/lib/python3.13/pathlib/_local.py:537\u001b[39m, in \u001b[36mPath.open\u001b[39m\u001b[34m(self, mode, buffering, encoding, errors, newline)\u001b[39m\n\u001b[32m    535\u001b[39m \u001b[38;5;28;01mif\u001b[39;00m \u001b[33m\"\u001b[39m\u001b[33mb\u001b[39m\u001b[33m\"\u001b[39m \u001b[38;5;129;01mnot\u001b[39;00m \u001b[38;5;129;01min\u001b[39;00m mode:\n\u001b[32m    536\u001b[39m     encoding = io.text_encoding(encoding)\n\u001b[32m--> \u001b[39m\u001b[32m537\u001b[39m \u001b[38;5;28;01mreturn\u001b[39;00m \u001b[43mio\u001b[49m\u001b[43m.\u001b[49m\u001b[43mopen\u001b[49m\u001b[43m(\u001b[49m\u001b[38;5;28;43mself\u001b[39;49m\u001b[43m,\u001b[49m\u001b[43m \u001b[49m\u001b[43mmode\u001b[49m\u001b[43m,\u001b[49m\u001b[43m \u001b[49m\u001b[43mbuffering\u001b[49m\u001b[43m,\u001b[49m\u001b[43m \u001b[49m\u001b[43mencoding\u001b[49m\u001b[43m,\u001b[49m\u001b[43m \u001b[49m\u001b[43merrors\u001b[49m\u001b[43m,\u001b[49m\u001b[43m \u001b[49m\u001b[43mnewline\u001b[49m\u001b[43m)\u001b[49m\n",
            "\u001b[31mFileNotFoundError\u001b[39m: [Errno 2] No such file or directory: 'tests/data/sample_portfolio.csv'"
          ]
        }
      ],
      "source": [
        "# Load tickers from the sample CSV shipped with the tests directory.\n",
        "portfolio_path = Path('tests/data/sample_portfolio.csv')\n",
        "raw_tickers = portfolio_path.read_text(encoding='utf-8').splitlines()\n",
        "portfolio_tickers = [ticker.strip() for ticker in raw_tickers if ticker and not ticker.startswith('#')]\n",
        "print(f'Loaded tickers: {portfolio_tickers}')\n",
        "\n",
        "# Build a deterministic price frame using a seeded random walk.\n",
        "rng = np.random.default_rng(seed=41)\n",
        "dates = pd.date_range('2022-01-01', periods=90, freq='B')\n",
        "shocks = rng.normal(loc=0.001, scale=0.02, size=(len(dates), len(portfolio_tickers)))\n",
        "prices = 100 * np.exp(np.cumsum(shocks, axis=0))\n",
        "price_frame = pd.DataFrame(prices, index=dates, columns=portfolio_tickers)\n",
        "price_frame.head()\n"
      ]
    },
    {
      "cell_type": "code",
      "execution_count": null,
      "metadata": {},
      "outputs": [],
      "source": [
        "# Compute daily returns and annualised statistics.\n",
        "returns = metrics.compute_returns(price_frame)\n",
        "annual_return = metrics.annualize_return(returns)\n",
        "annual_volatility = metrics.annualize_volatility(returns)\n",
        "sharpe = metrics.sharpe_ratio(returns)\n",
        "\n",
        "summary = pd.DataFrame({\n",
        "    'annual_return': annual_return,\n",
        "    'annual_volatility': annual_volatility,\n",
        "    'sharpe_ratio': sharpe,\n",
        "}).sort_index()\n",
        "summary\n"
      ]
    },
    {
      "cell_type": "code",
      "execution_count": null,
      "metadata": {},
      "outputs": [],
      "source": [
        "# Run an optimisation using the generated data when PyPortfolioOpt is installed.\n",
        "try:\n",
        "    import pypfopt  # noqa: F401\n",
        "except ModuleNotFoundError:\n",
        "    print('PyPortfolioOpt is not installed in this environment; skipping optimisation demo.')\n",
        "else:\n",
        "    with TemporaryDirectory() as tmpdir:\n",
        "        tmpdir_path = Path(tmpdir)\n",
        "        collated = price_frame.copy()\n",
        "        collated.index.name = 'Date'\n",
        "        collated.reset_index().to_csv(tmpdir_path / 'demo_collated.csv', index=False)\n",
        "\n",
        "        result = pysharpe.optimise_portfolio(\n",
        "            'demo',\n",
        "            collated_dir=tmpdir_path,\n",
        "            output_dir=tmpdir_path,\n",
        "            make_plot=False,\n",
        "        )\n",
        "        print(result.summary)\n"
      ]
    },
    {
      "cell_type": "code",
      "execution_count": null,
      "metadata": {},
      "outputs": [],
      "source": [
        "# Plot cumulative performance to visualise the synthetic series.\n",
        "figure, ax = plt.subplots(figsize=(8, 4))\n",
        "(price_frame / price_frame.iloc[0]).plot(ax=ax)\n",
        "ax.set_title('Synthetic Portfolio Prices (Normalised)')\n",
        "ax.set_ylabel('Growth (x starting value)')\n",
        "ax.grid(True)\n",
        "plt.tight_layout()\n",
        "figure\n"
      ]
    }
  ],
  "metadata": {
    "kernelspec": {
      "display_name": ".venv",
      "language": "python",
      "name": "python3"
    },
    "language_info": {
      "codemirror_mode": {
        "name": "ipython",
        "version": 3
      },
      "file_extension": ".py",
      "mimetype": "text/x-python",
      "name": "python",
      "nbconvert_exporter": "python",
      "pygments_lexer": "ipython3",
      "version": "3.13.7"
    }
  },
  "nbformat": 4,
  "nbformat_minor": 5
}
